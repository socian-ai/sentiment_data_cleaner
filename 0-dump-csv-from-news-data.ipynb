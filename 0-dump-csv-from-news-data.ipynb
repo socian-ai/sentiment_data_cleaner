{
 "cells": [
  {
   "cell_type": "code",
   "execution_count": 1,
   "metadata": {},
   "outputs": [],
   "source": [
    "import json\n",
    "import re\n",
    "import pandas as pd\n",
    "import glob\n",
    "import os"
   ]
  },
  {
   "cell_type": "code",
   "execution_count": 2,
   "metadata": {},
   "outputs": [],
   "source": [
    "input_json_path= '/hdd/sifat/NLP/sentiment_analysis/data/news-analyzer1.json'\n",
    "output_file_path = 'output/0-news.csv'\n",
    "!mkdir -p output"
   ]
  },
  {
   "cell_type": "code",
   "execution_count": 4,
   "metadata": {},
   "outputs": [],
   "source": [
    "# count = 0\n",
    "base = []\n",
    "with open(input_json_path,'r') as f:\n",
    "    for line in f:\n",
    "        base.append(line)\n",
    "#         count += 1\n",
    "#         if count > 100000:\n",
    "#             break\n",
    "\n",
    "news_jsons=[json.loads(i) for i in base]"
   ]
  },
  {
   "cell_type": "code",
   "execution_count": 10,
   "metadata": {},
   "outputs": [],
   "source": [
    "text_list = []\n",
    "for obj in news_jsons:\n",
    "    body = obj['_source']['body']\n",
    "    url = obj['_source']['url']\n",
    "    text_list.append({'text': body, 'source': 'news', 'URL': url})"
   ]
  },
  {
   "cell_type": "code",
   "execution_count": 11,
   "metadata": {},
   "outputs": [
    {
     "data": {
      "text/plain": [
       "100001"
      ]
     },
     "execution_count": 11,
     "metadata": {},
     "output_type": "execute_result"
    }
   ],
   "source": [
    "len(text_list)"
   ]
  },
  {
   "cell_type": "code",
   "execution_count": 12,
   "metadata": {},
   "outputs": [
    {
     "data": {
      "text/html": [
       "<div>\n",
       "<style scoped>\n",
       "    .dataframe tbody tr th:only-of-type {\n",
       "        vertical-align: middle;\n",
       "    }\n",
       "\n",
       "    .dataframe tbody tr th {\n",
       "        vertical-align: top;\n",
       "    }\n",
       "\n",
       "    .dataframe thead th {\n",
       "        text-align: right;\n",
       "    }\n",
       "</style>\n",
       "<table border=\"1\" class=\"dataframe\">\n",
       "  <thead>\n",
       "    <tr style=\"text-align: right;\">\n",
       "      <th></th>\n",
       "      <th>URL</th>\n",
       "      <th>source</th>\n",
       "      <th>text</th>\n",
       "    </tr>\n",
       "  </thead>\n",
       "  <tbody>\n",
       "    <tr>\n",
       "      <th>0</th>\n",
       "      <td>http://www.bd-pratidin.com/first-page/2020/01/...</td>\n",
       "      <td>news</td>\n",
       "      <td>প্রধানমন্ত্রী শেখ হাসিনা বলেছেন, বাংলাদেশ একটি...</td>\n",
       "    </tr>\n",
       "    <tr>\n",
       "      <th>1</th>\n",
       "      <td>https://dailysylhet.com/details/424386</td>\n",
       "      <td>news</td>\n",
       "      <td>কমলগঞ্জ প্রতিনিধি:: “আসুন বায়ুদূষণ রোধ করি” এই...</td>\n",
       "    </tr>\n",
       "    <tr>\n",
       "      <th>2</th>\n",
       "      <td>http://www.bd-pratidin.com/home/printnews/4831...</td>\n",
       "      <td>news</td>\n",
       "      <td>পররাষ্ট্রমন্ত্রীর দিল্লি ও স্বরাষ্ট্রমন্ত্রীর ...</td>\n",
       "    </tr>\n",
       "    <tr>\n",
       "      <th>3</th>\n",
       "      <td>https://dailysylhet.com/details/438228</td>\n",
       "      <td>news</td>\n",
       "      <td>কমলগঞ্জ প্রতিনিধি:: মৌলভীবাজারের কমলগঞ্জ উপজেল...</td>\n",
       "    </tr>\n",
       "    <tr>\n",
       "      <th>4</th>\n",
       "      <td>http://www.bd-pratidin.com/first-page/2019/10/...</td>\n",
       "      <td>news</td>\n",
       "      <td>প্রথম শ্রেণির ক্রিকেটে পারিশ্রমিক বাড়ানোসহ ১১ ...</td>\n",
       "    </tr>\n",
       "  </tbody>\n",
       "</table>\n",
       "</div>"
      ],
      "text/plain": [
       "                                                 URL source  \\\n",
       "0  http://www.bd-pratidin.com/first-page/2020/01/...   news   \n",
       "1             https://dailysylhet.com/details/424386   news   \n",
       "2  http://www.bd-pratidin.com/home/printnews/4831...   news   \n",
       "3             https://dailysylhet.com/details/438228   news   \n",
       "4  http://www.bd-pratidin.com/first-page/2019/10/...   news   \n",
       "\n",
       "                                                text  \n",
       "0  প্রধানমন্ত্রী শেখ হাসিনা বলেছেন, বাংলাদেশ একটি...  \n",
       "1  কমলগঞ্জ প্রতিনিধি:: “আসুন বায়ুদূষণ রোধ করি” এই...  \n",
       "2  পররাষ্ট্রমন্ত্রীর দিল্লি ও স্বরাষ্ট্রমন্ত্রীর ...  \n",
       "3  কমলগঞ্জ প্রতিনিধি:: মৌলভীবাজারের কমলগঞ্জ উপজেল...  \n",
       "4  প্রথম শ্রেণির ক্রিকেটে পারিশ্রমিক বাড়ানোসহ ১১ ...  "
      ]
     },
     "execution_count": 12,
     "metadata": {},
     "output_type": "execute_result"
    }
   ],
   "source": [
    "df = pd.DataFrame(text_list)\n",
    "df.head()"
   ]
  },
  {
   "cell_type": "code",
   "execution_count": 13,
   "metadata": {},
   "outputs": [],
   "source": [
    "df.to_csv(output_file_path, index=None)"
   ]
  },
  {
   "cell_type": "code",
   "execution_count": null,
   "metadata": {},
   "outputs": [],
   "source": []
  }
 ],
 "metadata": {
  "kernelspec": {
   "display_name": "Python 3",
   "language": "python",
   "name": "python3"
  },
  "language_info": {
   "codemirror_mode": {
    "name": "ipython",
    "version": 3
   },
   "file_extension": ".py",
   "mimetype": "text/x-python",
   "name": "python",
   "nbconvert_exporter": "python",
   "pygments_lexer": "ipython3",
   "version": "3.7.3"
  }
 },
 "nbformat": 4,
 "nbformat_minor": 4
}
