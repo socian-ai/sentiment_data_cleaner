{
 "cells": [
  {
   "cell_type": "code",
   "execution_count": 7,
   "metadata": {},
   "outputs": [],
   "source": [
    "import json\n",
    "import re\n",
    "from glob import glob\n",
    "import os\n",
    "\n",
    "import pandas as pd\n",
    "from tqdm import tqdm"
   ]
  },
  {
   "cell_type": "code",
   "execution_count": 8,
   "metadata": {},
   "outputs": [],
   "source": [
    "input_file_paths = glob('/hdd/sifat/NLP/sentiment_analysis/data/novels/*.txt')\n",
    "output_file_path = 'output/0-novels.csv'\n",
    "!mkdir -p output"
   ]
  },
  {
   "cell_type": "code",
   "execution_count": 9,
   "metadata": {},
   "outputs": [
    {
     "name": "stderr",
     "output_type": "stream",
     "text": [
      "100%|██████████| 12058/12058 [01:53<00:00, 106.67it/s]\n"
     ]
    }
   ],
   "source": [
    "input_list=[]\n",
    "for file in tqdm(input_file_paths):\n",
    "    with open(file,'r') as f:\n",
    "        base=f.read()\n",
    "    input_list.append({'text': base, 'novel': os.path.basename(file), 'source': 'novel'})    "
   ]
  },
  {
   "cell_type": "code",
   "execution_count": 10,
   "metadata": {},
   "outputs": [
    {
     "data": {
      "text/plain": [
       "12058"
      ]
     },
     "execution_count": 10,
     "metadata": {},
     "output_type": "execute_result"
    }
   ],
   "source": [
    "len(input_list)"
   ]
  },
  {
   "cell_type": "code",
   "execution_count": 11,
   "metadata": {},
   "outputs": [
    {
     "data": {
      "text/html": [
       "<div>\n",
       "<style scoped>\n",
       "    .dataframe tbody tr th:only-of-type {\n",
       "        vertical-align: middle;\n",
       "    }\n",
       "\n",
       "    .dataframe tbody tr th {\n",
       "        vertical-align: top;\n",
       "    }\n",
       "\n",
       "    .dataframe thead th {\n",
       "        text-align: right;\n",
       "    }\n",
       "</style>\n",
       "<table border=\"1\" class=\"dataframe\">\n",
       "  <thead>\n",
       "    <tr style=\"text-align: right;\">\n",
       "      <th></th>\n",
       "      <th>novel</th>\n",
       "      <th>source</th>\n",
       "      <th>text</th>\n",
       "    </tr>\n",
       "  </thead>\n",
       "  <tbody>\n",
       "    <tr>\n",
       "      <th>0</th>\n",
       "      <td>varot-ovijan-3-subahesadiq-wordpress-com-120-1...</td>\n",
       "      <td>novel</td>\n",
       "      <td>অদ্রুপ কোন শাহের বউ হয়ে সম্রাজ্ঞী সাজার অভিলা...</td>\n",
       "    </tr>\n",
       "    <tr>\n",
       "      <th>1</th>\n",
       "      <td>ibne_batutar_safarnama_travels_of_ibn_batuta-1...</td>\n",
       "      <td>novel</td>\n",
       "      <td>|| www.banglainternet.com || represents ------...</td>\n",
       "    </tr>\n",
       "    <tr>\n",
       "      <th>2</th>\n",
       "      <td>The_Last_Don-240-280.txt</td>\n",
       "      <td>novel</td>\n",
       "      <td>: \\nমারিও পুজো | আমি আমাকে সর্বোচ্চ মর্যাদায় ...</td>\n",
       "    </tr>\n",
       "    <tr>\n",
       "      <th>3</th>\n",
       "      <td>Kakababu Samagra Volume 3-240-280.txt</td>\n",
       "      <td>novel</td>\n",
       "      <td>মারতে পারে না । ও বােধ হয় তেমন পাকা নয়। আর-এ...</td>\n",
       "    </tr>\n",
       "    <tr>\n",
       "      <th>4</th>\n",
       "      <td>river god wilbur smith bangla download-280-320...</td>\n",
       "      <td>novel</td>\n",
       "      <td>সম্ভবত, নিজের নাম শুনতে পেলেন দেবী আইসিস ; বিপ...</td>\n",
       "    </tr>\n",
       "  </tbody>\n",
       "</table>\n",
       "</div>"
      ],
      "text/plain": [
       "                                               novel source  \\\n",
       "0  varot-ovijan-3-subahesadiq-wordpress-com-120-1...  novel   \n",
       "1  ibne_batutar_safarnama_travels_of_ibn_batuta-1...  novel   \n",
       "2                           The_Last_Don-240-280.txt  novel   \n",
       "3              Kakababu Samagra Volume 3-240-280.txt  novel   \n",
       "4  river god wilbur smith bangla download-280-320...  novel   \n",
       "\n",
       "                                                text  \n",
       "0  অদ্রুপ কোন শাহের বউ হয়ে সম্রাজ্ঞী সাজার অভিলা...  \n",
       "1  || www.banglainternet.com || represents ------...  \n",
       "2  : \\nমারিও পুজো | আমি আমাকে সর্বোচ্চ মর্যাদায় ...  \n",
       "3  মারতে পারে না । ও বােধ হয় তেমন পাকা নয়। আর-এ...  \n",
       "4  সম্ভবত, নিজের নাম শুনতে পেলেন দেবী আইসিস ; বিপ...  "
      ]
     },
     "execution_count": 11,
     "metadata": {},
     "output_type": "execute_result"
    }
   ],
   "source": [
    "df = pd.DataFrame(input_list)\n",
    "df.head()"
   ]
  },
  {
   "cell_type": "code",
   "execution_count": 12,
   "metadata": {},
   "outputs": [],
   "source": [
    "df.to_csv(output_file_path, index=None)"
   ]
  }
 ],
 "metadata": {
  "kernelspec": {
   "display_name": "Python 3",
   "language": "python",
   "name": "python3"
  },
  "language_info": {
   "codemirror_mode": {
    "name": "ipython",
    "version": 3
   },
   "file_extension": ".py",
   "mimetype": "text/x-python",
   "name": "python",
   "nbconvert_exporter": "python",
   "pygments_lexer": "ipython3",
   "version": "3.7.3"
  }
 },
 "nbformat": 4,
 "nbformat_minor": 4
}
