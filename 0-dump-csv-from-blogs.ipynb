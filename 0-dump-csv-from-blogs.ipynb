{
 "cells": [
  {
   "cell_type": "code",
   "execution_count": 1,
   "metadata": {},
   "outputs": [],
   "source": [
    "import json\n",
    "import re\n",
    "import pandas as pd\n",
    "import glob\n",
    "import os"
   ]
  },
  {
   "cell_type": "code",
   "execution_count": 2,
   "metadata": {},
   "outputs": [],
   "source": [
    "input_file_paths = 'input/blogs/'\n",
    "output_file_path = 'output/0-blogs.csv'\n",
    "!mkdir -p output"
   ]
  },
  {
   "cell_type": "code",
   "execution_count": 3,
   "metadata": {},
   "outputs": [
    {
     "name": "stdout",
     "output_type": "stream",
     "text": [
      "Loaded total 204 lines \n",
      "Loaded total 334 lines \n",
      "Loaded total 511 lines \n",
      "Loaded total 5080 lines \n",
      "Loaded total 9749 lines \n",
      "Loaded total 9768 lines \n",
      "Loaded total 35250 lines \n",
      "Loaded total 35297 lines \n",
      "Loaded total 36613 lines \n",
      "Loaded total 37949 lines \n",
      "Expecting ',' delimiter: line 248 column 6387 (char 2701003)\n",
      "input/blogs/muktomona.json\n",
      "Loaded total 39285 lines \n",
      "Loaded total 49020 lines \n",
      "Loaded total 51147 lines \n",
      "Loaded total 51465 lines \n"
     ]
    }
   ],
   "source": [
    "text_list=[]\n",
    "\n",
    "files = glob.glob(os.path.join(input_file_paths, '*.json'))\n",
    "for file in files:\n",
    "    with open(file) as input_f:\n",
    "        single_file_lines = []\n",
    "        for obj in input_f:\n",
    "            single_file_lines.append(obj)\n",
    "            \n",
    "        try:\n",
    "            json_parsed = json.loads(' '.join(single_file_lines))\n",
    "        except Exception as e:\n",
    "            print(e)\n",
    "            print(file)\n",
    "        for json_obj in json_parsed:\n",
    "            sentences = '\\n'.join(json_obj['full_description'])\n",
    "            text_list.append({'text': sentences, 'source': 'blog', 'URL': json_obj['content_link']})\n",
    "\n",
    "    print('Loaded total {} lines '.format(len(text_list)))"
   ]
  },
  {
   "cell_type": "code",
   "execution_count": 4,
   "metadata": {},
   "outputs": [
    {
     "data": {
      "text/plain": [
       "51465"
      ]
     },
     "execution_count": 4,
     "metadata": {},
     "output_type": "execute_result"
    }
   ],
   "source": [
    "len(text_list)"
   ]
  },
  {
   "cell_type": "code",
   "execution_count": 5,
   "metadata": {},
   "outputs": [
    {
     "data": {
      "text/plain": [
       "{'text': '\\n\\n\\n\\nunsung heroes - কথাটা এলে এদের নাম কেউ নেয় না। \\xa0কারণ এরা প্রাণ বাঁচায় না। \\xa0জীবন বাঁচায়। \\xa0করোনার প্রকোপে গৃহবন্দী কোটি কোটি মানুষ এই মৃত্যুঞ্জয়ীদের চরণ চুমে না। \\xa0বরঞ্চ তাদের কপালে জোটে গালাগালি। \\xa0কারণ এদের নাম নেই। \\xa0নেই এদের একক প্রচেষ্টার কোনো মূল্য। \\xa0এই গোষ্ঠী যা মানুষের মনে ঢুকিয়ে দিয়েছে মনুষ্যত্ব লোপ পাওয়ার ভয়। সেই গোষ্ঠী যাদের কারণে মানুষ মানুষকে ভুলে যন্ত্রের দাস \\xa0হয়ে গেছে। \\xa0সেই টেকনোলজির মানুষগুলির গান কেউ গায় না।\\xa0\\xa0',\n",
       " 'source': 'blog',\n",
       " 'URL': 'https://arkalekhalekhi.blogspot.com/2020/05/blog-post_9.html'}"
      ]
     },
     "execution_count": 5,
     "metadata": {},
     "output_type": "execute_result"
    }
   ],
   "source": [
    "text_list[0]"
   ]
  },
  {
   "cell_type": "code",
   "execution_count": 6,
   "metadata": {},
   "outputs": [
    {
     "data": {
      "text/html": [
       "<div>\n",
       "<style scoped>\n",
       "    .dataframe tbody tr th:only-of-type {\n",
       "        vertical-align: middle;\n",
       "    }\n",
       "\n",
       "    .dataframe tbody tr th {\n",
       "        vertical-align: top;\n",
       "    }\n",
       "\n",
       "    .dataframe thead th {\n",
       "        text-align: right;\n",
       "    }\n",
       "</style>\n",
       "<table border=\"1\" class=\"dataframe\">\n",
       "  <thead>\n",
       "    <tr style=\"text-align: right;\">\n",
       "      <th></th>\n",
       "      <th>text</th>\n",
       "      <th>source</th>\n",
       "      <th>URL</th>\n",
       "    </tr>\n",
       "  </thead>\n",
       "  <tbody>\n",
       "    <tr>\n",
       "      <th>0</th>\n",
       "      <td>\\n\\n\\n\\nunsung heroes - কথাটা এলে এদের নাম কেউ...</td>\n",
       "      <td>blog</td>\n",
       "      <td>https://arkalekhalekhi.blogspot.com/2020/05/bl...</td>\n",
       "    </tr>\n",
       "    <tr>\n",
       "      <th>1</th>\n",
       "      <td>\\n\\n\\n\\n\\n\\n\\n\\n\\n\\n\\n\\n\\n\\n\\n\\n\\n\\n\\n\\n\\n\\n\\n...</td>\n",
       "      <td>blog</td>\n",
       "      <td>https://arkalekhalekhi.blogspot.com/2020/05/9....</td>\n",
       "    </tr>\n",
       "    <tr>\n",
       "      <th>2</th>\n",
       "      <td>\\n\\n\\n</td>\n",
       "      <td>blog</td>\n",
       "      <td>https://arkalekhalekhi.blogspot.com/2020/05/bl...</td>\n",
       "    </tr>\n",
       "    <tr>\n",
       "      <th>3</th>\n",
       "      <td>\\n\\n\\n\\n\\n\\n\\n\\n\\n\\n\\n\\n\\n\\n\\n\\n\\n\\n\\n\\n\\n\\n\\n...</td>\n",
       "      <td>blog</td>\n",
       "      <td>https://arkalekhalekhi.blogspot.com/2020/04/bl...</td>\n",
       "    </tr>\n",
       "    <tr>\n",
       "      <th>4</th>\n",
       "      <td>\\n\\n\\n\\n\\n\\n\\n\\n\\n\\n\\n\\n\\n\\n\\n\\n\\n\\n\\n\\n\\n\\n\\n...</td>\n",
       "      <td>blog</td>\n",
       "      <td>https://arkalekhalekhi.blogspot.com/2020/04/bl...</td>\n",
       "    </tr>\n",
       "  </tbody>\n",
       "</table>\n",
       "</div>"
      ],
      "text/plain": [
       "                                                text source  \\\n",
       "0  \\n\\n\\n\\nunsung heroes - কথাটা এলে এদের নাম কেউ...   blog   \n",
       "1  \\n\\n\\n\\n\\n\\n\\n\\n\\n\\n\\n\\n\\n\\n\\n\\n\\n\\n\\n\\n\\n\\n\\n...   blog   \n",
       "2                                             \\n\\n\\n   blog   \n",
       "3  \\n\\n\\n\\n\\n\\n\\n\\n\\n\\n\\n\\n\\n\\n\\n\\n\\n\\n\\n\\n\\n\\n\\n...   blog   \n",
       "4  \\n\\n\\n\\n\\n\\n\\n\\n\\n\\n\\n\\n\\n\\n\\n\\n\\n\\n\\n\\n\\n\\n\\n...   blog   \n",
       "\n",
       "                                                 URL  \n",
       "0  https://arkalekhalekhi.blogspot.com/2020/05/bl...  \n",
       "1  https://arkalekhalekhi.blogspot.com/2020/05/9....  \n",
       "2  https://arkalekhalekhi.blogspot.com/2020/05/bl...  \n",
       "3  https://arkalekhalekhi.blogspot.com/2020/04/bl...  \n",
       "4  https://arkalekhalekhi.blogspot.com/2020/04/bl...  "
      ]
     },
     "execution_count": 6,
     "metadata": {},
     "output_type": "execute_result"
    }
   ],
   "source": [
    "df = pd.DataFrame(text_list)\n",
    "df.head()"
   ]
  },
  {
   "cell_type": "code",
   "execution_count": 7,
   "metadata": {},
   "outputs": [],
   "source": [
    "df.to_csv(output_file_path, index=None)"
   ]
  },
  {
   "cell_type": "code",
   "execution_count": null,
   "metadata": {},
   "outputs": [],
   "source": []
  },
  {
   "cell_type": "code",
   "execution_count": null,
   "metadata": {},
   "outputs": [],
   "source": []
  }
 ],
 "metadata": {
  "kernelspec": {
   "display_name": "Python 3",
   "language": "python",
   "name": "python3"
  },
  "language_info": {
   "codemirror_mode": {
    "name": "ipython",
    "version": 3
   },
   "file_extension": ".py",
   "mimetype": "text/x-python",
   "name": "python",
   "nbconvert_exporter": "python",
   "pygments_lexer": "ipython3",
   "version": "3.7.6"
  }
 },
 "nbformat": 4,
 "nbformat_minor": 4
}
